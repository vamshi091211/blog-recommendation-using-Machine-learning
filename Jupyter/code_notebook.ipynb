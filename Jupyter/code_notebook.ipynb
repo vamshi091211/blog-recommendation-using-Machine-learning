{
 "cells": [
  {
   "cell_type": "markdown",
   "metadata": {},
   "source": [
    "### Importing Libraries"
   ]
  },
  {
   "cell_type": "code",
   "execution_count": 1,
   "metadata": {},
   "outputs": [],
   "source": [
    "import pandas as pd\n",
    "import numpy as np\n",
    "from sklearn.feature_extraction.text import CountVectorizer\n",
    "from sklearn.metrics.pairwise import cosine_similarity"
   ]
  },
  {
   "cell_type": "markdown",
   "metadata": {},
   "source": [
    "### Loading Data"
   ]
  },
  {
   "cell_type": "code",
   "execution_count": 2,
   "metadata": {},
   "outputs": [],
   "source": [
    "user_info = pd.read_csv(\"user.csv\", engine = \"python\")\n",
    "user_and_post_info = pd.read_csv(\"view.csv\")\n",
    "post_info = pd.read_csv(\"post.csv\")"
   ]
  },
  {
   "cell_type": "markdown",
   "metadata": {},
   "source": [
    "### Examining Data"
   ]
  },
  {
   "cell_type": "code",
   "execution_count": 3,
   "metadata": {},
   "outputs": [
    {
     "data": {
      "text/html": [
       "<div>\n",
       "<style scoped>\n",
       "    .dataframe tbody tr th:only-of-type {\n",
       "        vertical-align: middle;\n",
       "    }\n",
       "\n",
       "    .dataframe tbody tr th {\n",
       "        vertical-align: top;\n",
       "    }\n",
       "\n",
       "    .dataframe thead th {\n",
       "        text-align: right;\n",
       "    }\n",
       "</style>\n",
       "<table border=\"1\" class=\"dataframe\">\n",
       "  <thead>\n",
       "    <tr style=\"text-align: right;\">\n",
       "      <th></th>\n",
       "      <th>_id</th>\n",
       "      <th>name</th>\n",
       "      <th>gender</th>\n",
       "      <th>academics</th>\n",
       "    </tr>\n",
       "  </thead>\n",
       "  <tbody>\n",
       "    <tr>\n",
       "      <th>0</th>\n",
       "      <td>5d60098a653a331687083238</td>\n",
       "      <td>Nivesh Singh Chauhan</td>\n",
       "      <td>male</td>\n",
       "      <td>undergraduate</td>\n",
       "    </tr>\n",
       "    <tr>\n",
       "      <th>1</th>\n",
       "      <td>5d610ae1653a331687083239</td>\n",
       "      <td>Gaurav Sharma</td>\n",
       "      <td>male</td>\n",
       "      <td>graduate</td>\n",
       "    </tr>\n",
       "    <tr>\n",
       "      <th>2</th>\n",
       "      <td>5d618359fc5fcf3bdd9a0910</td>\n",
       "      <td>Akshay Mishra</td>\n",
       "      <td>male</td>\n",
       "      <td>undergraduate</td>\n",
       "    </tr>\n",
       "    <tr>\n",
       "      <th>3</th>\n",
       "      <td>5d6d2bb87fa40e1417a49315</td>\n",
       "      <td>Saksham Mathur</td>\n",
       "      <td>male</td>\n",
       "      <td>undergraduate</td>\n",
       "    </tr>\n",
       "    <tr>\n",
       "      <th>4</th>\n",
       "      <td>5d7c994d5720533e15c3b1e9</td>\n",
       "      <td>Varun Chowhan</td>\n",
       "      <td>male</td>\n",
       "      <td>undergraduate</td>\n",
       "    </tr>\n",
       "  </tbody>\n",
       "</table>\n",
       "</div>"
      ],
      "text/plain": [
       "                        _id                  name gender      academics\n",
       "0  5d60098a653a331687083238  Nivesh Singh Chauhan   male  undergraduate\n",
       "1  5d610ae1653a331687083239         Gaurav Sharma   male       graduate\n",
       "2  5d618359fc5fcf3bdd9a0910         Akshay Mishra   male  undergraduate\n",
       "3  5d6d2bb87fa40e1417a49315        Saksham Mathur   male  undergraduate\n",
       "4  5d7c994d5720533e15c3b1e9         Varun Chowhan   male  undergraduate"
      ]
     },
     "execution_count": 3,
     "metadata": {},
     "output_type": "execute_result"
    }
   ],
   "source": [
    "user_info.head()"
   ]
  },
  {
   "cell_type": "code",
   "execution_count": 4,
   "metadata": {
    "scrolled": true
   },
   "outputs": [
    {
     "data": {
      "text/html": [
       "<div>\n",
       "<style scoped>\n",
       "    .dataframe tbody tr th:only-of-type {\n",
       "        vertical-align: middle;\n",
       "    }\n",
       "\n",
       "    .dataframe tbody tr th {\n",
       "        vertical-align: top;\n",
       "    }\n",
       "\n",
       "    .dataframe thead th {\n",
       "        text-align: right;\n",
       "    }\n",
       "</style>\n",
       "<table border=\"1\" class=\"dataframe\">\n",
       "  <thead>\n",
       "    <tr style=\"text-align: right;\">\n",
       "      <th></th>\n",
       "      <th>user_id</th>\n",
       "      <th>post_id</th>\n",
       "      <th>timestamp</th>\n",
       "    </tr>\n",
       "  </thead>\n",
       "  <tbody>\n",
       "    <tr>\n",
       "      <th>0</th>\n",
       "      <td>5df49b32cc709107827fb3c7</td>\n",
       "      <td>5ec821ddec493f4a2655889e</td>\n",
       "      <td>2020-06-01T10:46:45.131Z</td>\n",
       "    </tr>\n",
       "    <tr>\n",
       "      <th>1</th>\n",
       "      <td>5ed3748576027d35905ccaab</td>\n",
       "      <td>5ed4cbadbd514d602c1531a6</td>\n",
       "      <td>2020-06-01T09:39:20.021Z</td>\n",
       "    </tr>\n",
       "    <tr>\n",
       "      <th>2</th>\n",
       "      <td>5ed0defa76027d35905cc2de</td>\n",
       "      <td>5eac305f10426255a7aa9dd3</td>\n",
       "      <td>2020-06-01T08:12:42.682Z</td>\n",
       "    </tr>\n",
       "    <tr>\n",
       "      <th>3</th>\n",
       "      <td>5ed0defa76027d35905cc2de</td>\n",
       "      <td>5ed1ff0276027d35905cc60d</td>\n",
       "      <td>2020-06-01T08:10:23.880Z</td>\n",
       "    </tr>\n",
       "    <tr>\n",
       "      <th>4</th>\n",
       "      <td>5ed0defa76027d35905cc2de</td>\n",
       "      <td>5ed3820f76027d35905ccac8</td>\n",
       "      <td>2020-06-01T08:08:54.124Z</td>\n",
       "    </tr>\n",
       "  </tbody>\n",
       "</table>\n",
       "</div>"
      ],
      "text/plain": [
       "                    user_id                   post_id  \\\n",
       "0  5df49b32cc709107827fb3c7  5ec821ddec493f4a2655889e   \n",
       "1  5ed3748576027d35905ccaab  5ed4cbadbd514d602c1531a6   \n",
       "2  5ed0defa76027d35905cc2de  5eac305f10426255a7aa9dd3   \n",
       "3  5ed0defa76027d35905cc2de  5ed1ff0276027d35905cc60d   \n",
       "4  5ed0defa76027d35905cc2de  5ed3820f76027d35905ccac8   \n",
       "\n",
       "                  timestamp  \n",
       "0  2020-06-01T10:46:45.131Z  \n",
       "1  2020-06-01T09:39:20.021Z  \n",
       "2  2020-06-01T08:12:42.682Z  \n",
       "3  2020-06-01T08:10:23.880Z  \n",
       "4  2020-06-01T08:08:54.124Z  "
      ]
     },
     "execution_count": 4,
     "metadata": {},
     "output_type": "execute_result"
    }
   ],
   "source": [
    "user_and_post_info.head()"
   ]
  },
  {
   "cell_type": "code",
   "execution_count": 5,
   "metadata": {},
   "outputs": [
    {
     "data": {
      "text/html": [
       "<div>\n",
       "<style scoped>\n",
       "    .dataframe tbody tr th:only-of-type {\n",
       "        vertical-align: middle;\n",
       "    }\n",
       "\n",
       "    .dataframe tbody tr th {\n",
       "        vertical-align: top;\n",
       "    }\n",
       "\n",
       "    .dataframe thead th {\n",
       "        text-align: right;\n",
       "    }\n",
       "</style>\n",
       "<table border=\"1\" class=\"dataframe\">\n",
       "  <thead>\n",
       "    <tr style=\"text-align: right;\">\n",
       "      <th></th>\n",
       "      <th>_id</th>\n",
       "      <th>title</th>\n",
       "      <th>category</th>\n",
       "      <th>post_type</th>\n",
       "      <th>Unnamed: 4</th>\n",
       "      <th>Unnamed: 5</th>\n",
       "      <th>Unnamed: 6</th>\n",
       "      <th>Unnamed: 7</th>\n",
       "      <th>Unnamed: 8</th>\n",
       "      <th>Unnamed: 9</th>\n",
       "    </tr>\n",
       "  </thead>\n",
       "  <tbody>\n",
       "    <tr>\n",
       "      <th>0</th>\n",
       "      <td>5d62abaa65218653a132c956</td>\n",
       "      <td>hello there</td>\n",
       "      <td>Plant Biotechnology</td>\n",
       "      <td>blog</td>\n",
       "      <td>NaN</td>\n",
       "      <td>NaN</td>\n",
       "      <td>NaN</td>\n",
       "      <td>NaN</td>\n",
       "      <td>NaN</td>\n",
       "      <td>NaN</td>\n",
       "    </tr>\n",
       "    <tr>\n",
       "      <th>1</th>\n",
       "      <td>5d6d39567fa40e1417a4931c</td>\n",
       "      <td>Ml and AI</td>\n",
       "      <td>Artificial Intelligence|Machine Learning|Infor...</td>\n",
       "      <td>blog</td>\n",
       "      <td>NaN</td>\n",
       "      <td>NaN</td>\n",
       "      <td>NaN</td>\n",
       "      <td>NaN</td>\n",
       "      <td>NaN</td>\n",
       "      <td>NaN</td>\n",
       "    </tr>\n",
       "    <tr>\n",
       "      <th>2</th>\n",
       "      <td>5d7d23315720533e15c3b1ee</td>\n",
       "      <td>What is an Operating System ?</td>\n",
       "      <td>Operating Systems</td>\n",
       "      <td>blog</td>\n",
       "      <td>NaN</td>\n",
       "      <td>NaN</td>\n",
       "      <td>NaN</td>\n",
       "      <td>NaN</td>\n",
       "      <td>NaN</td>\n",
       "      <td>NaN</td>\n",
       "    </tr>\n",
       "    <tr>\n",
       "      <th>3</th>\n",
       "      <td>5d7d405e5720533e15c3b1f3</td>\n",
       "      <td>Lord Shiva</td>\n",
       "      <td>Drawings</td>\n",
       "      <td>artwork</td>\n",
       "      <td>NaN</td>\n",
       "      <td>NaN</td>\n",
       "      <td>NaN</td>\n",
       "      <td>NaN</td>\n",
       "      <td>NaN</td>\n",
       "      <td>NaN</td>\n",
       "    </tr>\n",
       "    <tr>\n",
       "      <th>4</th>\n",
       "      <td>5d80dfbc6c53455f896e600e</td>\n",
       "      <td>How Competition law evolved?</td>\n",
       "      <td>Competition Laws</td>\n",
       "      <td>blog</td>\n",
       "      <td>NaN</td>\n",
       "      <td>NaN</td>\n",
       "      <td>NaN</td>\n",
       "      <td>NaN</td>\n",
       "      <td>NaN</td>\n",
       "      <td>NaN</td>\n",
       "    </tr>\n",
       "  </tbody>\n",
       "</table>\n",
       "</div>"
      ],
      "text/plain": [
       "                        _id                          title  \\\n",
       "0  5d62abaa65218653a132c956                    hello there   \n",
       "1  5d6d39567fa40e1417a4931c                      Ml and AI   \n",
       "2  5d7d23315720533e15c3b1ee  What is an Operating System ?   \n",
       "3  5d7d405e5720533e15c3b1f3                     Lord Shiva   \n",
       "4  5d80dfbc6c53455f896e600e   How Competition law evolved?   \n",
       "\n",
       "                                            category  post_type  Unnamed: 4  \\\n",
       "0                                Plant Biotechnology       blog         NaN   \n",
       "1  Artificial Intelligence|Machine Learning|Infor...       blog         NaN   \n",
       "2                                  Operating Systems       blog         NaN   \n",
       "3                                           Drawings    artwork         NaN   \n",
       "4                                   Competition Laws       blog         NaN   \n",
       "\n",
       "   Unnamed: 5  Unnamed: 6  Unnamed: 7  Unnamed: 8  Unnamed: 9  \n",
       "0         NaN         NaN         NaN         NaN         NaN  \n",
       "1         NaN         NaN         NaN         NaN         NaN  \n",
       "2         NaN         NaN         NaN         NaN         NaN  \n",
       "3         NaN         NaN         NaN         NaN         NaN  \n",
       "4         NaN         NaN         NaN         NaN         NaN  "
      ]
     },
     "execution_count": 5,
     "metadata": {},
     "output_type": "execute_result"
    }
   ],
   "source": [
    "post_info.head()"
   ]
  },
  {
   "cell_type": "code",
   "execution_count": 6,
   "metadata": {},
   "outputs": [],
   "source": [
    "# Removing NaN columns (Unnamed)\n",
    "post_info.drop(['Unnamed: '+str(x) for x in range(4, 10)], axis = 1, inplace = True)"
   ]
  },
  {
   "cell_type": "code",
   "execution_count": 7,
   "metadata": {},
   "outputs": [
    {
     "data": {
      "text/html": [
       "<div>\n",
       "<style scoped>\n",
       "    .dataframe tbody tr th:only-of-type {\n",
       "        vertical-align: middle;\n",
       "    }\n",
       "\n",
       "    .dataframe tbody tr th {\n",
       "        vertical-align: top;\n",
       "    }\n",
       "\n",
       "    .dataframe thead th {\n",
       "        text-align: right;\n",
       "    }\n",
       "</style>\n",
       "<table border=\"1\" class=\"dataframe\">\n",
       "  <thead>\n",
       "    <tr style=\"text-align: right;\">\n",
       "      <th></th>\n",
       "      <th>_id</th>\n",
       "      <th>name</th>\n",
       "      <th>gender</th>\n",
       "      <th>academics</th>\n",
       "    </tr>\n",
       "  </thead>\n",
       "  <tbody>\n",
       "    <tr>\n",
       "      <th>count</th>\n",
       "      <td>118</td>\n",
       "      <td>118</td>\n",
       "      <td>118</td>\n",
       "      <td>118</td>\n",
       "    </tr>\n",
       "    <tr>\n",
       "      <th>unique</th>\n",
       "      <td>118</td>\n",
       "      <td>118</td>\n",
       "      <td>3</td>\n",
       "      <td>3</td>\n",
       "    </tr>\n",
       "    <tr>\n",
       "      <th>top</th>\n",
       "      <td>5d60098a653a331687083238</td>\n",
       "      <td>Shreya maji</td>\n",
       "      <td>male</td>\n",
       "      <td>undergraduate</td>\n",
       "    </tr>\n",
       "    <tr>\n",
       "      <th>freq</th>\n",
       "      <td>1</td>\n",
       "      <td>1</td>\n",
       "      <td>72</td>\n",
       "      <td>68</td>\n",
       "    </tr>\n",
       "  </tbody>\n",
       "</table>\n",
       "</div>"
      ],
      "text/plain": [
       "                             _id         name gender      academics\n",
       "count                        118          118    118            118\n",
       "unique                       118          118      3              3\n",
       "top     5d60098a653a331687083238  Shreya maji   male  undergraduate\n",
       "freq                           1            1     72             68"
      ]
     },
     "execution_count": 7,
     "metadata": {},
     "output_type": "execute_result"
    }
   ],
   "source": [
    "user_info.describe()"
   ]
  },
  {
   "cell_type": "code",
   "execution_count": 8,
   "metadata": {},
   "outputs": [
    {
     "data": {
      "text/html": [
       "<div>\n",
       "<style scoped>\n",
       "    .dataframe tbody tr th:only-of-type {\n",
       "        vertical-align: middle;\n",
       "    }\n",
       "\n",
       "    .dataframe tbody tr th {\n",
       "        vertical-align: top;\n",
       "    }\n",
       "\n",
       "    .dataframe thead th {\n",
       "        text-align: right;\n",
       "    }\n",
       "</style>\n",
       "<table border=\"1\" class=\"dataframe\">\n",
       "  <thead>\n",
       "    <tr style=\"text-align: right;\">\n",
       "      <th></th>\n",
       "      <th>user_id</th>\n",
       "      <th>post_id</th>\n",
       "      <th>timestamp</th>\n",
       "    </tr>\n",
       "  </thead>\n",
       "  <tbody>\n",
       "    <tr>\n",
       "      <th>count</th>\n",
       "      <td>1449</td>\n",
       "      <td>1449</td>\n",
       "      <td>1449</td>\n",
       "    </tr>\n",
       "    <tr>\n",
       "      <th>unique</th>\n",
       "      <td>118</td>\n",
       "      <td>495</td>\n",
       "      <td>1449</td>\n",
       "    </tr>\n",
       "    <tr>\n",
       "      <th>top</th>\n",
       "      <td>5d60098a653a331687083238</td>\n",
       "      <td>5ec1fd0974f7660d73aa0fd5</td>\n",
       "      <td>2020-05-21T19:58:28.607Z</td>\n",
       "    </tr>\n",
       "    <tr>\n",
       "      <th>freq</th>\n",
       "      <td>230</td>\n",
       "      <td>18</td>\n",
       "      <td>1</td>\n",
       "    </tr>\n",
       "  </tbody>\n",
       "</table>\n",
       "</div>"
      ],
      "text/plain": [
       "                         user_id                   post_id  \\\n",
       "count                       1449                      1449   \n",
       "unique                       118                       495   \n",
       "top     5d60098a653a331687083238  5ec1fd0974f7660d73aa0fd5   \n",
       "freq                         230                        18   \n",
       "\n",
       "                       timestamp  \n",
       "count                       1449  \n",
       "unique                      1449  \n",
       "top     2020-05-21T19:58:28.607Z  \n",
       "freq                           1  "
      ]
     },
     "execution_count": 8,
     "metadata": {},
     "output_type": "execute_result"
    }
   ],
   "source": [
    "user_and_post_info.describe()"
   ]
  },
  {
   "cell_type": "code",
   "execution_count": 9,
   "metadata": {},
   "outputs": [
    {
     "data": {
      "text/html": [
       "<div>\n",
       "<style scoped>\n",
       "    .dataframe tbody tr th:only-of-type {\n",
       "        vertical-align: middle;\n",
       "    }\n",
       "\n",
       "    .dataframe tbody tr th {\n",
       "        vertical-align: top;\n",
       "    }\n",
       "\n",
       "    .dataframe thead th {\n",
       "        text-align: right;\n",
       "    }\n",
       "</style>\n",
       "<table border=\"1\" class=\"dataframe\">\n",
       "  <thead>\n",
       "    <tr style=\"text-align: right;\">\n",
       "      <th></th>\n",
       "      <th>_id</th>\n",
       "      <th>name</th>\n",
       "      <th>gender</th>\n",
       "      <th>academics</th>\n",
       "    </tr>\n",
       "  </thead>\n",
       "  <tbody>\n",
       "    <tr>\n",
       "      <th>67</th>\n",
       "      <td>5ea43f7310426255a7aa9b1d</td>\n",
       "      <td>Apoorva Rana</td>\n",
       "      <td>undefined</td>\n",
       "      <td>undefined</td>\n",
       "    </tr>\n",
       "    <tr>\n",
       "      <th>74</th>\n",
       "      <td>5ea890e410426255a7aa9c16</td>\n",
       "      <td>Gretchen</td>\n",
       "      <td>undefined</td>\n",
       "      <td>undefined</td>\n",
       "    </tr>\n",
       "  </tbody>\n",
       "</table>\n",
       "</div>"
      ],
      "text/plain": [
       "                         _id          name     gender  academics\n",
       "67  5ea43f7310426255a7aa9b1d  Apoorva Rana  undefined  undefined\n",
       "74  5ea890e410426255a7aa9c16      Gretchen  undefined  undefined"
      ]
     },
     "execution_count": 9,
     "metadata": {},
     "output_type": "execute_result"
    }
   ],
   "source": [
    "df1 = user_info.loc[(user_info['gender'] != 'male') & (user_info['gender'] != 'female')]\n",
    "df1"
   ]
  },
  {
   "cell_type": "code",
   "execution_count": 10,
   "metadata": {},
   "outputs": [
    {
     "data": {
      "text/html": [
       "<div>\n",
       "<style scoped>\n",
       "    .dataframe tbody tr th:only-of-type {\n",
       "        vertical-align: middle;\n",
       "    }\n",
       "\n",
       "    .dataframe tbody tr th {\n",
       "        vertical-align: top;\n",
       "    }\n",
       "\n",
       "    .dataframe thead th {\n",
       "        text-align: right;\n",
       "    }\n",
       "</style>\n",
       "<table border=\"1\" class=\"dataframe\">\n",
       "  <thead>\n",
       "    <tr style=\"text-align: right;\">\n",
       "      <th></th>\n",
       "      <th>_id</th>\n",
       "      <th>name</th>\n",
       "      <th>gender</th>\n",
       "      <th>academics</th>\n",
       "    </tr>\n",
       "  </thead>\n",
       "  <tbody>\n",
       "    <tr>\n",
       "      <th>67</th>\n",
       "      <td>5ea43f7310426255a7aa9b1d</td>\n",
       "      <td>Apoorva Rana</td>\n",
       "      <td>undefined</td>\n",
       "      <td>undefined</td>\n",
       "    </tr>\n",
       "    <tr>\n",
       "      <th>74</th>\n",
       "      <td>5ea890e410426255a7aa9c16</td>\n",
       "      <td>Gretchen</td>\n",
       "      <td>undefined</td>\n",
       "      <td>undefined</td>\n",
       "    </tr>\n",
       "  </tbody>\n",
       "</table>\n",
       "</div>"
      ],
      "text/plain": [
       "                         _id          name     gender  academics\n",
       "67  5ea43f7310426255a7aa9b1d  Apoorva Rana  undefined  undefined\n",
       "74  5ea890e410426255a7aa9c16      Gretchen  undefined  undefined"
      ]
     },
     "execution_count": 10,
     "metadata": {},
     "output_type": "execute_result"
    }
   ],
   "source": [
    "df2 = user_info.loc[(user_info['academics'] != 'graduate') & (user_info['academics'] != 'undergraduate')]\n",
    "df2"
   ]
  },
  {
   "cell_type": "markdown",
   "metadata": {},
   "source": [
    "# Content Based Filtering"
   ]
  },
  {
   "cell_type": "markdown",
   "metadata": {},
   "source": [
    "### Combining Features (Bag of Words)"
   ]
  },
  {
   "cell_type": "code",
   "execution_count": 11,
   "metadata": {},
   "outputs": [],
   "source": [
    "# Adding extra index column (to be used later)\n",
    "post_info.insert(0, 'index', range(0, len(post_info)))"
   ]
  },
  {
   "cell_type": "code",
   "execution_count": 12,
   "metadata": {},
   "outputs": [],
   "source": [
    "# Converting ids to string data type\n",
    "post_info['_id'] = post_info['_id'].astype(str)"
   ]
  },
  {
   "cell_type": "code",
   "execution_count": 13,
   "metadata": {},
   "outputs": [],
   "source": [
    "# Taking care of NaN values\n",
    "\n",
    "post_info_cols = list(post_info.columns)\n",
    "post_info_cols.pop(0) # removing '_id'\n",
    "\n",
    "for feature in post_info_cols:\n",
    "    post_info[feature] = post_info[feature].fillna(\"\")"
   ]
  },
  {
   "cell_type": "code",
   "execution_count": 14,
   "metadata": {},
   "outputs": [],
   "source": [
    "# function to make a single string by combining data in a row of post_info\n",
    "\n",
    "def combine_features(row):\n",
    "    try:\n",
    "        return row['title'] + \" \" + row['category'] + \" \"+ row[' post_type']\n",
    "    except:\n",
    "        print (\"Error:\",row)"
   ]
  },
  {
   "cell_type": "code",
   "execution_count": 15,
   "metadata": {},
   "outputs": [
    {
     "data": {
      "text/plain": [
       "0                   hello there Plant Biotechnology blog\n",
       "1      Ml and AI Artificial Intelligence|Machine Lear...\n",
       "2      What is an Operating System ? Operating System...\n",
       "3                            Lord Shiva Drawings artwork\n",
       "4      How Competition law evolved? Competition Laws ...\n",
       "                             ...                        \n",
       "488    CI/CD using GitHub Actions Computer Technology...\n",
       "489    Configure Docker with Django; PostgreSQL; Pg-a...\n",
       "490                       Recommendation Engine  project\n",
       "491    Face Recognition using Transfer Learning. Scie...\n",
       "492    Configure CI/CD Pipeline in GitLab and deploym...\n",
       "Name: combined_features, Length: 493, dtype: object"
      ]
     },
     "execution_count": 15,
     "metadata": {},
     "output_type": "execute_result"
    }
   ],
   "source": [
    "# New Column having concatenated data of all columns (except '_id')\n",
    "\n",
    "post_info[\"combined_features\"] = post_info.apply(combine_features, axis = 1)\n",
    "\n",
    "post_info[\"combined_features\"]"
   ]
  },
  {
   "cell_type": "markdown",
   "metadata": {},
   "source": [
    "### Filtering Similar Posts"
   ]
  },
  {
   "cell_type": "code",
   "execution_count": 16,
   "metadata": {},
   "outputs": [],
   "source": [
    "cv = CountVectorizer()\n",
    "\n",
    "count_matrix = cv.fit_transform(post_info[\"combined_features\"])\n",
    "\n",
    "cosine_sim = cosine_similarity(count_matrix)"
   ]
  },
  {
   "cell_type": "code",
   "execution_count": 17,
   "metadata": {},
   "outputs": [],
   "source": [
    "#cv.get_feature_names()"
   ]
  },
  {
   "cell_type": "code",
   "execution_count": 18,
   "metadata": {},
   "outputs": [],
   "source": [
    "# Defining Utility Functions\n",
    "\n",
    "def get_index_from_title(title):\n",
    "    return post_info[post_info['title'] == title]['index'].values[0]\n",
    "\n",
    "def get_title_from_index(index):\n",
    "    return post_info[post_info['index'] == index]['title'].values[0]\n",
    "\n",
    "def get_post_id_from_user_id(userid):\n",
    "    return user_and_post_info[user_and_post_info['user_id'] == userid]['post_id'].values[0]\n",
    "\n",
    "def get_title_from_post_id(postid):\n",
    "    return post_info[post_info['_id'] == postid]['title'].values[0]"
   ]
  },
  {
   "cell_type": "code",
   "execution_count": 19,
   "metadata": {},
   "outputs": [],
   "source": [
    "# USER\n",
    "\n",
    "Id_of_user = '5e5dfbbefbc8805f69e02c91'\n",
    "Id_of_post_user_likes = get_post_id_from_user_id(Id_of_user)\n",
    "post_user_likes = get_title_from_post_id(Id_of_post_user_likes)"
   ]
  },
  {
   "cell_type": "code",
   "execution_count": 20,
   "metadata": {},
   "outputs": [
    {
     "name": "stdout",
     "output_type": "stream",
     "text": [
      "Dog❤️\n"
     ]
    }
   ],
   "source": [
    "print(post_user_likes)"
   ]
  },
  {
   "cell_type": "code",
   "execution_count": 21,
   "metadata": {},
   "outputs": [],
   "source": [
    "post_index = get_index_from_title(post_user_likes)"
   ]
  },
  {
   "cell_type": "code",
   "execution_count": 22,
   "metadata": {},
   "outputs": [],
   "source": [
    "similar_posts = list(enumerate(cosine_sim[post_index]))"
   ]
  },
  {
   "cell_type": "code",
   "execution_count": 23,
   "metadata": {},
   "outputs": [],
   "source": [
    "sorted_similar_posts = sorted(similar_posts, key = lambda x:x[1], reverse=True)"
   ]
  },
  {
   "cell_type": "code",
   "execution_count": 24,
   "metadata": {},
   "outputs": [
    {
     "name": "stdout",
     "output_type": "stream",
     "text": [
      "Dog❤️\n",
      "Spirituality\n",
      "Travelling\n",
      "screw2\n",
      "Aesthetic\n",
      "Quarantined\n",
      "Bloom🌸\n",
      "freeze\n",
      "Bliss :)\n",
      "Sunset\n",
      "Peaceful\n",
      "TOWER\n",
      "PEACE\n",
      "EYES\n",
      "CANON\n",
      "THOUGHTFUL\n",
      "engrossed\n",
      "Hermit\n",
      "innocence\n",
      "peace\n",
      "trekking\n"
     ]
    }
   ],
   "source": [
    "# Top 20 similar posts\n",
    "\n",
    "i = 0\n",
    "for post in sorted_similar_posts:\n",
    "    print(get_title_from_index(post[0]))\n",
    "    i = i + 1\n",
    "    if i > 20:\n",
    "        break"
   ]
  }
 ],
 "metadata": {
  "kernelspec": {
   "display_name": "Python 3",
   "language": "python",
   "name": "python3"
  },
  "language_info": {
   "codemirror_mode": {
    "name": "ipython",
    "version": 3
   },
   "file_extension": ".py",
   "mimetype": "text/x-python",
   "name": "python",
   "nbconvert_exporter": "python",
   "pygments_lexer": "ipython3",
   "version": "3.7.7"
  }
 },
 "nbformat": 4,
 "nbformat_minor": 4
}
